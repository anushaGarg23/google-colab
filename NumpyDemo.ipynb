{
  "nbformat": 4,
  "nbformat_minor": 0,
  "metadata": {
    "colab": {
      "provenance": [],
      "authorship_tag": "ABX9TyMgifAzhRQkYmD1O+19e3GR",
      "include_colab_link": true
    },
    "kernelspec": {
      "name": "python3",
      "display_name": "Python 3"
    },
    "language_info": {
      "name": "python"
    }
  },
  "cells": [
    {
      "cell_type": "markdown",
      "metadata": {
        "id": "view-in-github",
        "colab_type": "text"
      },
      "source": [
        "<a href=\"https://colab.research.google.com/github/anushaGarg23/google-colab/blob/main/NumpyDemo.ipynb\" target=\"_parent\"><img src=\"https://colab.research.google.com/assets/colab-badge.svg\" alt=\"Open In Colab\"/></a>"
      ]
    },
    {
      "cell_type": "markdown",
      "source": [
        "# **Numpy - Numeric Computing Library**\n",
        "NumPy(Numeric Python) -> It is one of the core packages for numerical computing in Python."
      ],
      "metadata": {
        "id": "bNrN4dN6_JSk"
      }
    },
    {
      "cell_type": "code",
      "source": [],
      "metadata": {
        "id": "0ttvMJIs_Ukx"
      },
      "execution_count": null,
      "outputs": []
    }
  ]
}